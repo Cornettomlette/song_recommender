{
 "cells": [
  {
   "cell_type": "code",
   "execution_count": 1,
   "metadata": {},
   "outputs": [],
   "source": [
    "import ast\n",
    "import requests\n",
    "import random\n",
    "import pandas as pd\n",
    "from bs4 import BeautifulSoup\n",
    "import spotipy\n",
    "import json\n",
    "import joblib\n",
    "from spotipy.oauth2 import SpotifyClientCredentials\n",
    "from credentialSpoty import *\n",
    "from fuzzywuzzy import fuzz\n",
    "import Levenshtein as lev"
   ]
  },
  {
   "cell_type": "code",
   "execution_count": 2,
   "metadata": {},
   "outputs": [],
   "source": [
    "sp = spotipy.Spotify(auth_manager=SpotifyClientCredentials(client_id= Client_ID,\n",
    "                                                           client_secret= Client_Secret))\n",
    "\n",
    "\n",
    "def load_model_from_file(file_name = 'clustering_model_4.sav'):\n",
    "    return joblib.load(open(file_name, 'rb'))\n",
    "\n",
    "model = load_model_from_file()\n",
    "\n",
    "def get_song_id(song_name):\n",
    "    song_info = sp.search(q = song_name, limit = 1)\n",
    "    song_id = song_info['tracks']['items'][0]['uri']\n",
    "   \n",
    "    return(song_id) \n",
    "\n",
    "def get_audio_features(song_id):\n",
    "    features_json = sp.audio_features(song_id) \n",
    "    \n",
    "    energy = features_json[0]['energy']\n",
    "    instrumentalness = features_json[0]['instrumentalness']\n",
    "    speechiness = features_json[0]['speechiness']\n",
    "    valence = features_json[0]['valence']\n",
    "     \n",
    "    features_array = [[energy, instrumentalness, speechiness, valence]]\n",
    "    return (features_array)\n",
    "\n",
    "def predict_cluster(model, song_features):\n",
    "    return int(model.predict(song_features))\n",
    "\n",
    "def read_full_dataset_with_clusters():\n",
    "    return pd.read_csv('full_data_with_clusters.csv')\n",
    "\n",
    "def get_random_song_from_cluster(song_cluster):\n",
    "    file = read_full_dataset_with_clusters()\n",
    "    songs_in_given_cluster = file[file[\"cluster\"] == song_cluster]\n",
    "    row = songs_in_given_cluster.sample(n=1).iloc[0]\n",
    "    list_of_artists = ast.literal_eval(row['artists'])\n",
    "    song_string = f\"{row['name']} by {', '.join(list_of_artists)}\"\n",
    "    return song_string\n",
    "\n",
    "def recommend_song_from_kaggle_dataset(song_name):\n",
    "    song_id = get_song_id(song_name)\n",
    "    audio_features = get_audio_features(song_id)\n",
    "    predicted_cluster = predict_cluster(model, audio_features)\n",
    "    recommended_song = get_random_song_from_cluster(predicted_cluster)\n",
    "    return recommended_song\n",
    "\n",
    "\n",
    "def scraping_Billboard(url = 'https://www.billboard.com/charts/hot-100'):\n",
    "    response = requests.get(url)\n",
    "    soup = BeautifulSoup(response.content, \"html.parser\")\n",
    "    title = []\n",
    "    artist = []\n",
    "    num_iter = 100\n",
    "    for i in range(num_iter):\n",
    "        title.append(soup.find_all('span', \"chart-element__information__song text--truncate color--primary\")[i].get_text())\n",
    "        artist.append(soup.find_all('span', \"chart-element__information__artist text--truncate color--secondary\")[i].get_text())\n",
    "    BillboardTop100 = pd.DataFrame({\n",
    "                        \"artist\":artist,\n",
    "                       \"song\":title,\n",
    "                       \"Artist\":artist,\n",
    "                       \"Song\":title })\n",
    "    a = BillboardTop100['artist'].str.lower()\n",
    "    s = BillboardTop100['song'].str.lower()\n",
    "\n",
    "    BillboardTop100['artist'] = a\n",
    "    BillboardTop100['song'] = s\n",
    "    BillboardTop100.index += 1 \n",
    "    return BillboardTop100"
   ]
  },
  {
   "cell_type": "code",
   "execution_count": 3,
   "metadata": {},
   "outputs": [],
   "source": [
    "rating_top100 = scraping_Billboard()"
   ]
  },
  {
   "cell_type": "code",
   "execution_count": null,
   "metadata": {},
   "outputs": [],
   "source": []
  },
  {
   "cell_type": "code",
   "execution_count": 4,
   "metadata": {},
   "outputs": [],
   "source": [
    "def recomended_song(get_song):\n",
    "    global rating_top100\n",
    "    song_index = rating_top100.index[rating_top100['song'] == get_song].tolist()\n",
    "    rec_index = random.randint(1,100)\n",
    "    rec_song = rating_top100['Song'].values[rec_index]\n",
    "    rec_index = rating_top100.index[rating_top100['Song'] == rec_song].tolist()\n",
    "    rec_artist = rating_top100['Artist'].values[rec_index]\n",
    "    \n",
    "    rec_song_artist_string = f\"{rec_song} by {rec_artist[0]}\"\n",
    "    #print(f\"So maybe you would also like the song '{rec_song}' by {rec_artist[0]}? (number {int(rec_index[0])} in Hot 100)\")\n",
    "    return rec_song_artist_string\n",
    "        \n",
    "        \n",
    "def giving_recomendation(inputed_song):\n",
    "    get_song = inputed_song.lower()\n",
    "    global rating_top100\n",
    "    list_of_ratios = []\n",
    "    for i in range(100):\n",
    "        song_from_top = rating_top100['song'].values[i]\n",
    "        ratio = lev.ratio(song_from_top, get_song)\n",
    "        list_of_ratios.append(ratio)\n",
    "    if max(list_of_ratios) > 0.9:\n",
    "        index_of_song = list_of_ratios.index(max(list_of_ratios))\n",
    "        real_song = rating_top100['song'].values[index_of_song]\n",
    "        return recomended_song(real_song)\n",
    "    else:\n",
    "        recommendation_from_outside = recommend_song_from_kaggle_dataset(get_song)\n",
    "        return recommendation_from_outside\n",
    "    "
   ]
  },
  {
   "cell_type": "code",
   "execution_count": null,
   "metadata": {},
   "outputs": [],
   "source": []
  },
  {
   "cell_type": "code",
   "execution_count": 16,
   "metadata": {},
   "outputs": [
    {
     "name": "stdout",
     "output_type": "stream",
     "text": [
      "Pick your song and enter here: strangers in the night\n"
     ]
    },
    {
     "data": {
      "text/plain": [
       "\"Don't Stop Loving Me Now by L.T.D.\""
      ]
     },
     "execution_count": 16,
     "metadata": {},
     "output_type": "execute_result"
    }
   ],
   "source": [
    "inputed_song = input('Pick your song and enter here: ')\n",
    "giving_recomendation(inputed_song)"
   ]
  },
  {
   "cell_type": "code",
   "execution_count": null,
   "metadata": {},
   "outputs": [],
   "source": []
  },
  {
   "cell_type": "code",
   "execution_count": null,
   "metadata": {},
   "outputs": [],
   "source": []
  },
  {
   "cell_type": "code",
   "execution_count": null,
   "metadata": {},
   "outputs": [],
   "source": []
  },
  {
   "cell_type": "code",
   "execution_count": null,
   "metadata": {},
   "outputs": [],
   "source": []
  },
  {
   "cell_type": "code",
   "execution_count": null,
   "metadata": {},
   "outputs": [],
   "source": []
  }
 ],
 "metadata": {
  "kernelspec": {
   "display_name": "Python 3",
   "language": "python",
   "name": "python3"
  },
  "language_info": {
   "codemirror_mode": {
    "name": "ipython",
    "version": 3
   },
   "file_extension": ".py",
   "mimetype": "text/x-python",
   "name": "python",
   "nbconvert_exporter": "python",
   "pygments_lexer": "ipython3",
   "version": "3.8.2"
  }
 },
 "nbformat": 4,
 "nbformat_minor": 4
}
